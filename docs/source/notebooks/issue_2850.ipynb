{
 "cells": [
  {
   "cell_type": "code",
   "execution_count": 1,
   "metadata": {
    "collapsed": true,
    "deletable": true,
    "editable": true
   },
   "outputs": [],
   "source": [
    "import numpy as np\n",
    "import scipy.stats as stats\n",
    "import pymc3 as pm\n",
    "from theano import shared\n",
    "import matplotlib.pyplot as plt\n",
    "import theano\n",
    "import theano.tensor as tt\n",
    "floatX = \"float32\""
   ]
  },
  {
   "cell_type": "code",
   "execution_count": 2,
   "metadata": {
    "collapsed": false,
    "deletable": true,
    "editable": true
   },
   "outputs": [
    {
     "name": "stdout",
     "output_type": "stream",
     "text": [
      "CPython 2.7.13\n",
      "IPython 5.3.0\n",
      "\n",
      "numpy 1.13.0\n",
      "sklearn 0.18.1\n",
      "pandas 0.19.2\n",
      "matplotlib 2.0.0\n",
      "seaborn 0.7.1\n",
      "pymc3 3.3rc1\n",
      "theano 1.0.0\n",
      "\n",
      "compiler   : GCC 4.2.1 Compatible Apple LLVM 8.0.0 (clang-800.0.42.1)\n",
      "system     : Darwin\n",
      "release    : 17.3.0\n",
      "machine    : x86_64\n",
      "processor  : i386\n",
      "CPU cores  : 8\n",
      "interpreter: 64bit\n"
     ]
    }
   ],
   "source": [
    "%load_ext watermark\n",
    "%watermark -v -m -p numpy,sklearn,pandas,matplotlib,seaborn,pymc3,theano"
   ]
  },
  {
   "cell_type": "code",
   "execution_count": 3,
   "metadata": {
    "collapsed": true,
    "deletable": true,
    "editable": true
   },
   "outputs": [],
   "source": [
    "from sklearn.datasets import make_blobs\n",
    "\n",
    "n_samples = 100\n",
    "nk = 5\n",
    "random_state = 170\n",
    "X, y = make_blobs(n_samples=n_samples, cluster_std=[1.0, 2.5, 0.5, 1.5, .8], random_state=random_state, centers=5)\n",
    "X = X.astype('float32')\n",
    "plt.scatter(X[:, 0], X[:, 1], c=y, cmap=plt.cm.viridis);"
   ]
  },
  {
   "cell_type": "code",
   "execution_count": 4,
   "metadata": {
    "collapsed": true,
    "deletable": true,
    "editable": true
   },
   "outputs": [],
   "source": [
    "K = 15\n",
    "def stick_breaking(beta):\n",
    "    portion_remaining = tt.concatenate([[1], tt.extra_ops.cumprod(1 - beta)[:-1]])\n",
    "    return beta * portion_remaining\n",
    "\n",
    "# Log likelihood of Gaussian mixture distribution\n",
    "from pymc3.math import logsumexp\n",
    "solver = tt.slinalg.Solve(A_structure=\"lower_triangular\", lower=True)\n",
    "def GMM_logp(weight, mus, chol):\n",
    "    def logp_(value):\n",
    "        Ncomp = len(chol)\n",
    "        logps = []\n",
    "        for i in range(Ncomp):\n",
    "            mu = mus[:, i]\n",
    "            chol_cov = chol[i]\n",
    "            k = chol_cov.shape[0]\n",
    "\n",
    "            delta = value.reshape((-1, k)) - mu\n",
    "            delta_trans = solver(chol_cov, delta.T)\n",
    "\n",
    "            result = k * tt.log(2 * np.pi)\n",
    "            result += 2.0 * tt.sum(tt.log(tt.nlinalg.diag(chol_cov)))\n",
    "            result += (delta_trans ** 2).sum(axis=0).T\n",
    "            logps.append(tt.log(weight[i]) + -0.5*result)\n",
    "        return tt.sum(logsumexp(tt.stacklists(logps), axis=0))\n",
    "    return logp_"
   ]
  },
  {
   "cell_type": "code",
   "execution_count": 5,
   "metadata": {
    "collapsed": true,
    "deletable": true,
    "editable": true
   },
   "outputs": [],
   "source": [
    "with pm.Model() as model:\n",
    "    alpha = pm.Gamma('alpha', 1., 1.)\n",
    "    beta = pm.Beta('beta', 1., alpha, shape=K)\n",
    "    w = pm.Deterministic('w', stick_breaking(beta))\n",
    "                         \n",
    "    sd_dist = []\n",
    "    packed_chol = []\n",
    "    chol = []\n",
    "    for i in range(K):\n",
    "        sd_dist.append(pm.HalfCauchy.dist(beta=2.5))\n",
    "        packed_chol.append(pm.LKJCholeskyCov('chol_cov_%i'%i, eta=2, n=2, sd_dist=sd_dist[i]))\n",
    "        chol.append(pm.expand_packed_triangular(2, packed_chol[i], lower=True))\n",
    "    \n",
    "    mus = pm.Normal('mu', 0, sd=10, shape=(2, K))\n",
    "\n",
    "    obs = pm.DensityDist('obs', GMM_logp(w, mus, chol), observed=X)"
   ]
  },
  {
   "cell_type": "code",
   "execution_count": 8,
   "metadata": {
    "collapsed": false,
    "deletable": true,
    "editable": true
   },
   "outputs": [
    {
     "data": {
      "text/plain": [
       "0"
      ]
     },
     "execution_count": 8,
     "metadata": {},
     "output_type": "execute_result"
    }
   ],
   "source": [
    "obs.distribution.logp(theano.shared(X[:10])).ndim"
   ]
  }
 ],
 "metadata": {
  "kernelspec": {
   "display_name": "Python 2",
   "language": "python",
   "name": "python2"
  },
  "language_info": {
   "codemirror_mode": {
    "name": "ipython",
    "version": 2
   },
   "file_extension": ".py",
   "mimetype": "text/x-python",
   "name": "python",
   "nbconvert_exporter": "python",
   "pygments_lexer": "ipython2",
   "version": "2.7.13"
  }
 },
 "nbformat": 4,
 "nbformat_minor": 2
}
